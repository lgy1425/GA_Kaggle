{
 "cells": [
  {
   "cell_type": "code",
   "execution_count": 1,
   "metadata": {},
   "outputs": [],
   "source": [
    "import pandas as pd\n",
    "import numpy as np\n",
    "\n",
    "# DRAGONS\n",
    "import xgboost as xgb\n",
    "import lightgbm as lgb\n",
    "import catboost as cat\n",
    "# plots\n",
    "import seaborn as sns\n",
    "import matplotlib.pyplot as plt\n",
    "%matplotlib inline\n",
    "\n",
    "# pandas / plt options\n",
    "pd.options.display.max_columns = 999\n",
    "plt.rcParams['figure.figsize'] = (14, 7)\n",
    "font = {'family' : 'verdana',\n",
    "        'weight' : 'bold',\n",
    "        'size'   : 14}\n",
    "plt.rc('font', **font)\n",
    "\n",
    "# remove warnings\n",
    "import warnings\n",
    "warnings.simplefilter(\"ignore\")\n",
    "import json\n",
    "# garbage collector\n",
    "import gc\n",
    "gc.enable()\n",
    "from pandas.io.json import json_normalize\n",
    "import pickle\n",
    "import pytz\n",
    "from datetime import datetime\n",
    "\n",
    "from sklearn.metrics import mean_squared_error\n",
    "from sklearn.preprocessing import LabelEncoder\n",
    "from sklearn import preprocessing"
   ]
  },
  {
   "cell_type": "code",
   "execution_count": 2,
   "metadata": {},
   "outputs": [
    {
     "name": "stdout",
     "output_type": "stream",
     "text": [
      "(903653, 55) (804684, 53)\n"
     ]
    }
   ],
   "source": [
    "def load_df(csv_path):\n",
    "    JSON_COLUMNS = ['device', 'geoNetwork', 'totals', 'trafficSource']\n",
    "    ans = pd.DataFrame()\n",
    "    dfs = pd.read_csv(csv_path, sep=',',usecols=lambda col: col not in [\"hits\"],\n",
    "            converters={column: json.loads for column in JSON_COLUMNS}, \n",
    "            dtype={'fullVisitorId': 'str'}, # Important!!\n",
    "            chunksize=100000)\n",
    "    for df in dfs:\n",
    "        df.reset_index(drop = True,inplace = True)\n",
    "        for column in JSON_COLUMNS:\n",
    "            column_as_df = json_normalize(df[column])\n",
    "            column_as_df.columns = [column+\".\"+subcolumn for subcolumn in column_as_df.columns]\n",
    "            df = df.drop(column, axis=1).merge(column_as_df, right_index=True, left_index=True)\n",
    "\n",
    "        #print(f\"Loaded {os.path.basename(csv_path)}. Shape: {df.shape}\")\n",
    "#         use_df = df[features]\n",
    "#         del df\n",
    "        gc.collect()\n",
    "        ans = pd.concat([ans,df], axis=0).reset_index(drop=True)\n",
    "        #print(ans.shape)\n",
    "    return ans\n",
    "\n",
    "train = load_df(\"/home/mediwhale-2/GAC_kaggle/data/train.csv\")\n",
    "test= load_df(\"/home/mediwhale-2/GAC_kaggle/data/test.csv\")\n",
    "\n",
    "\n",
    "print(train.shape, test.shape)"
   ]
  },
  {
   "cell_type": "code",
   "execution_count": 3,
   "metadata": {},
   "outputs": [],
   "source": [
    "train[\"totals.transactionRevenue\"] = train[\"totals.transactionRevenue\"].astype(float)"
   ]
  },
  {
   "cell_type": "code",
   "execution_count": 4,
   "metadata": {},
   "outputs": [],
   "source": [
    "train.fillna(0, inplace=True)\n",
    "test.fillna(0, inplace=True)"
   ]
  },
  {
   "cell_type": "code",
   "execution_count": 5,
   "metadata": {},
   "outputs": [
    {
     "name": "stdout",
     "output_type": "stream",
     "text": [
      "channelGrouping\n",
      "device.browser\n",
      "device.deviceCategory\n",
      "device.operatingSystem\n",
      "geoNetwork.city\n",
      "geoNetwork.continent\n",
      "geoNetwork.country\n",
      "geoNetwork.metro\n",
      "geoNetwork.networkDomain\n",
      "geoNetwork.region\n",
      "geoNetwork.subContinent\n",
      "trafficSource.adContent\n",
      "trafficSource.adwordsClickInfo.adNetworkType\n",
      "trafficSource.adwordsClickInfo.gclId\n",
      "trafficSource.adwordsClickInfo.page\n",
      "trafficSource.adwordsClickInfo.slot\n",
      "trafficSource.campaign\n",
      "trafficSource.keyword\n",
      "trafficSource.medium\n",
      "trafficSource.referralPath\n",
      "trafficSource.source\n",
      "trafficSource.adwordsClickInfo.isVideoAd\n",
      "trafficSource.isTrueDirect\n"
     ]
    }
   ],
   "source": [
    "# label encode the categorical variables and convert the numerical variables to float\n",
    "cat_cols = [\"channelGrouping\", \"device.browser\", \n",
    "            \"device.deviceCategory\", \"device.operatingSystem\", \n",
    "            \"geoNetwork.city\", \"geoNetwork.continent\", \n",
    "            \"geoNetwork.country\", \"geoNetwork.metro\",\n",
    "            \"geoNetwork.networkDomain\", \"geoNetwork.region\", \n",
    "            \"geoNetwork.subContinent\", \"trafficSource.adContent\", \n",
    "            \"trafficSource.adwordsClickInfo.adNetworkType\", \n",
    "            \"trafficSource.adwordsClickInfo.gclId\", \n",
    "            \"trafficSource.adwordsClickInfo.page\", \n",
    "            \"trafficSource.adwordsClickInfo.slot\", \"trafficSource.campaign\",\n",
    "            \"trafficSource.keyword\", \"trafficSource.medium\", \n",
    "            \"trafficSource.referralPath\", \"trafficSource.source\",\n",
    "            'trafficSource.adwordsClickInfo.isVideoAd', 'trafficSource.isTrueDirect']\n",
    "for col in cat_cols:\n",
    "    print(col)\n",
    "    lbl = preprocessing.LabelEncoder()\n",
    "    lbl.fit(list(train[col].values.astype('str')) + list(test[col].values.astype('str')))\n",
    "    train[col] = lbl.transform(list(train[col].values.astype('str')))\n",
    "    test[col] = lbl.transform(list(test[col].values.astype('str')))\n",
    "\n",
    "\n",
    "num_cols = [\"totals.hits\", \"totals.pageviews\", \"visitNumber\", 'totals.bounces',  'totals.newVisits']    \n",
    "for col in num_cols:\n",
    "    train[col] = train[col].astype(float)\n",
    "    test[col] = test[col].astype(float)"
   ]
  },
  {
   "cell_type": "code",
   "execution_count": 14,
   "metadata": {},
   "outputs": [],
   "source": [
    "from sklearn.model_selection import GroupKFold\n",
    "\n",
    "from sklearn.metrics import mean_squared_error\n",
    "from sklearn.metrics import roc_auc_score\n",
    "def score(data, y):\n",
    "    validation_res = pd.DataFrame(\n",
    "    {\"fullVisitorId\": data[\"fullVisitorId\"].values,\n",
    "     \"transactionRevenue\": data[\"totals.transactionRevenue\"].values,\n",
    "     \"predictedRevenue\": np.expm1(y)})\n",
    "\n",
    "    validation_res = validation_res.groupby(\"fullVisitorId\")[\"transactionRevenue\", \"predictedRevenue\"].sum().reset_index()\n",
    "    return np.sqrt(mean_squared_error(np.log1p(validation_res[\"transactionRevenue\"].values), \n",
    "                                     np.log1p(validation_res[\"predictedRevenue\"].values)))\n",
    "\n",
    "class KFoldValidation():\n",
    "    def __init__(self, data, n_splits=5):\n",
    "        unique_vis = np.array(sorted(data['fullVisitorId'].astype(str).unique()))\n",
    "        folds = GroupKFold(n_splits)\n",
    "        ids = np.arange(data.shape[0])\n",
    "        \n",
    "        self.fold_ids = []\n",
    "        for trn_vis, val_vis in folds.split(X=unique_vis, y=unique_vis, groups=unique_vis):\n",
    "            self.fold_ids.append([\n",
    "                    ids[data['fullVisitorId'].astype(str).isin(unique_vis[trn_vis])],\n",
    "                    ids[data['fullVisitorId'].astype(str).isin(unique_vis[val_vis])]\n",
    "                ])\n",
    "            \n",
    "    def validate(self, train, test, features, model, name=\"\", prepare_stacking=False, \n",
    "                 fit_params={\"early_stopping_rounds\": 50, \"verbose\": 100, \"eval_metric\": \"rmse\"}):\n",
    "        model.FI = pd.DataFrame(index=features)\n",
    "        full_score = 0\n",
    "        \n",
    "        if prepare_stacking:\n",
    "            test[name] = 0\n",
    "            train[name] = np.NaN\n",
    "        \n",
    "        for fold_id, (trn, val) in enumerate(self.fold_ids):\n",
    "            devel = train[features].iloc[trn]\n",
    "            y_devel = np.log1p(train[\"totals.transactionRevenue\"].iloc[trn])\n",
    "            valid = test[features]\n",
    "            y_valid = np.log1p(test[\"totals.transactionRevenue\"])\n",
    "                       \n",
    "            print(\"Fold \", fold_id, \":\")\n",
    "            model.fit(devel, y_devel, eval_set=[(valid, y_valid)], **fit_params)\n",
    "\n",
    "            if len(model.feature_importances_) == len(features):  # some bugs in catboost?\n",
    "                model.FI['fold' + str(fold_id)] = model.feature_importances_ / model.feature_importances_.sum()\n",
    "\n",
    "            predictions = model.predict(valid)\n",
    "            predictions[predictions < 0] = 0\n",
    "            \n",
    "            val_predictions = model.predict(train[features].iloc[val])\n",
    "            val_predictions[val_predictions < 0] = 0\n",
    "            \n",
    "            print(\"Fold \", fold_id, \" error: \", mean_squared_error(y_valid, predictions)**0.5)\n",
    "            \n",
    "            fold_score = score(test, predictions)\n",
    "            full_score += fold_score / len(self.fold_ids)\n",
    "            print(\"Fold \", fold_id, \" score: \", fold_score)\n",
    "            \n",
    "            \n",
    "            \n",
    "            if prepare_stacking:\n",
    "                train[name].iloc[val] = val_predictions\n",
    "                \n",
    "                test_predictions = model.predict(test[features])\n",
    "                test_predictions[test_predictions < 0] = 0\n",
    "                test[name] += test_predictions / len(self.fold_ids)\n",
    "                test[\"prediction_\"+str(fold_id)] = model.predict(test[features])\n",
    "                \n",
    "        print(\"Final score: \", full_score)\n",
    "        return full_score"
   ]
  },
  {
   "cell_type": "code",
   "execution_count": 11,
   "metadata": {},
   "outputs": [],
   "source": [
    "dev_df = train[train['date']<=20170531]\n",
    "val_df = train[train['date']>20170531]\n",
    "\n",
    "dev_df = dev_df.reset_index()\n",
    "val_df = val_df.reset_index()"
   ]
  },
  {
   "cell_type": "code",
   "execution_count": 15,
   "metadata": {},
   "outputs": [
    {
     "name": "stdout",
     "output_type": "stream",
     "text": [
      "Fold  0 :\n",
      "[0]\tvalidation_0-rmse:2.14633\n",
      "Will train until validation_0-rmse hasn't improved in 50 rounds.\n",
      "[100]\tvalidation_0-rmse:2.05275\n",
      "[200]\tvalidation_0-rmse:1.99347\n",
      "[300]\tvalidation_0-rmse:1.96815\n",
      "[400]\tvalidation_0-rmse:1.94878\n",
      "[500]\tvalidation_0-rmse:1.93842\n",
      "[600]\tvalidation_0-rmse:1.92986\n",
      "[700]\tvalidation_0-rmse:1.92362\n",
      "[800]\tvalidation_0-rmse:1.91632\n",
      "[900]\tvalidation_0-rmse:1.90871\n",
      "[999]\tvalidation_0-rmse:1.90419\n",
      "Fold  0  error:  1.9015681533676916\n",
      "Fold  0  score:  1.9776106553421067\n",
      "Fold  1 :\n",
      "[0]\tvalidation_0-rmse:2.14635\n",
      "Will train until validation_0-rmse hasn't improved in 50 rounds.\n",
      "[100]\tvalidation_0-rmse:2.07174\n",
      "[200]\tvalidation_0-rmse:2.01852\n",
      "[300]\tvalidation_0-rmse:1.98094\n",
      "[400]\tvalidation_0-rmse:1.96595\n",
      "[500]\tvalidation_0-rmse:1.94453\n",
      "[600]\tvalidation_0-rmse:1.93421\n",
      "[700]\tvalidation_0-rmse:1.92712\n",
      "[800]\tvalidation_0-rmse:1.91884\n",
      "[900]\tvalidation_0-rmse:1.91334\n",
      "[999]\tvalidation_0-rmse:1.90714\n",
      "Fold  1  error:  1.904701602623606\n",
      "Fold  1  score:  1.9818835196859772\n",
      "Fold  2 :\n",
      "[0]\tvalidation_0-rmse:2.14634\n",
      "Will train until validation_0-rmse hasn't improved in 50 rounds.\n",
      "[100]\tvalidation_0-rmse:2.08448\n",
      "[200]\tvalidation_0-rmse:2.02713\n",
      "[300]\tvalidation_0-rmse:1.99726\n",
      "[400]\tvalidation_0-rmse:1.97345\n",
      "[500]\tvalidation_0-rmse:1.96513\n",
      "[600]\tvalidation_0-rmse:1.95447\n",
      "[700]\tvalidation_0-rmse:1.93786\n",
      "[800]\tvalidation_0-rmse:1.93217\n",
      "[900]\tvalidation_0-rmse:1.92566\n",
      "[999]\tvalidation_0-rmse:1.91817\n",
      "Fold  2  error:  1.9157786349858095\n",
      "Fold  2  score:  1.9947690211682647\n",
      "Fold  3 :\n",
      "[0]\tvalidation_0-rmse:2.14634\n",
      "Will train until validation_0-rmse hasn't improved in 50 rounds.\n",
      "[100]\tvalidation_0-rmse:2.06815\n",
      "[200]\tvalidation_0-rmse:2.02177\n",
      "[300]\tvalidation_0-rmse:2.00909\n",
      "[400]\tvalidation_0-rmse:1.98072\n",
      "[500]\tvalidation_0-rmse:1.96918\n",
      "[600]\tvalidation_0-rmse:1.95475\n",
      "[700]\tvalidation_0-rmse:1.94649\n",
      "[800]\tvalidation_0-rmse:1.9347\n",
      "[900]\tvalidation_0-rmse:1.92666\n",
      "[999]\tvalidation_0-rmse:1.92132\n",
      "Fold  3  error:  1.9190249048753716\n",
      "Fold  3  score:  1.9992678270036104\n",
      "Fold  4 :\n",
      "[0]\tvalidation_0-rmse:2.14634\n",
      "Will train until validation_0-rmse hasn't improved in 50 rounds.\n",
      "[100]\tvalidation_0-rmse:2.06111\n",
      "[200]\tvalidation_0-rmse:2.03003\n",
      "[300]\tvalidation_0-rmse:1.98748\n",
      "[400]\tvalidation_0-rmse:1.9542\n",
      "[500]\tvalidation_0-rmse:1.94026\n",
      "[600]\tvalidation_0-rmse:1.93081\n",
      "[700]\tvalidation_0-rmse:1.92608\n",
      "[800]\tvalidation_0-rmse:1.91874\n",
      "[900]\tvalidation_0-rmse:1.90975\n",
      "[999]\tvalidation_0-rmse:1.90657\n",
      "Fold  4  error:  1.9042728957928103\n",
      "Fold  4  score:  1.9818189468035512\n",
      "Final score:  1.9870699940007022\n"
     ]
    },
    {
     "data": {
      "text/plain": [
       "1.9870699940007022"
      ]
     },
     "execution_count": 15,
     "metadata": {},
     "output_type": "execute_result"
    }
   ],
   "source": [
    "\n",
    "\n",
    "\n",
    "Kfolder = KFoldValidation(dev_df,5)\n",
    "\n",
    "\n",
    "\n",
    "xgbmodel = xgb.XGBRegressor(max_depth=11, learning_rate=0.02, n_estimators=1000, \n",
    "                                     objective='reg:linear', gamma=1.45, seed=2019, silent=True,\n",
    "                                    subsample=0.67, colsample_bytree=0.054, colsample_bylevel=0.50)\n",
    "\n",
    "Kfolder.validate(dev_df, val_df, num_cols + cat_cols, xgbmodel, \"xgbpred\", prepare_stacking=True)\n"
   ]
  },
  {
   "cell_type": "code",
   "execution_count": 19,
   "metadata": {},
   "outputs": [
    {
     "name": "stdout",
     "output_type": "stream",
     "text": [
      "Fold  0 :\n",
      "Training until validation scores don't improve for 50 rounds.\n",
      "[100]\tvalid_0's rmse: 1.79831\n",
      "[200]\tvalid_0's rmse: 1.75341\n",
      "[300]\tvalid_0's rmse: 1.74279\n",
      "[400]\tvalid_0's rmse: 1.73603\n",
      "[500]\tvalid_0's rmse: 1.73263\n",
      "[600]\tvalid_0's rmse: 1.72923\n",
      "[700]\tvalid_0's rmse: 1.72688\n",
      "[800]\tvalid_0's rmse: 1.72491\n",
      "[900]\tvalid_0's rmse: 1.72372\n",
      "[1000]\tvalid_0's rmse: 1.72229\n",
      "Did not meet early stopping. Best iteration is:\n",
      "[998]\tvalid_0's rmse: 1.72225\n",
      "Fold  0  error:  1.7212472196630706\n",
      "Fold  0  score:  1.7672183456103274\n",
      "Fold  1 :\n",
      "Training until validation scores don't improve for 50 rounds.\n",
      "[100]\tvalid_0's rmse: 1.80023\n",
      "[200]\tvalid_0's rmse: 1.75576\n",
      "[300]\tvalid_0's rmse: 1.74593\n",
      "[400]\tvalid_0's rmse: 1.73844\n",
      "[500]\tvalid_0's rmse: 1.73423\n",
      "[600]\tvalid_0's rmse: 1.73083\n",
      "[700]\tvalid_0's rmse: 1.72873\n",
      "[800]\tvalid_0's rmse: 1.72624\n",
      "[900]\tvalid_0's rmse: 1.72504\n",
      "[1000]\tvalid_0's rmse: 1.72338\n",
      "Did not meet early stopping. Best iteration is:\n",
      "[998]\tvalid_0's rmse: 1.72338\n",
      "Fold  1  error:  1.7223551228935716\n",
      "Fold  1  score:  1.7699872677502808\n",
      "Fold  2 :\n",
      "Training until validation scores don't improve for 50 rounds.\n",
      "[100]\tvalid_0's rmse: 1.80085\n",
      "[200]\tvalid_0's rmse: 1.75662\n",
      "[300]\tvalid_0's rmse: 1.74455\n",
      "[400]\tvalid_0's rmse: 1.73805\n",
      "[500]\tvalid_0's rmse: 1.73444\n",
      "[600]\tvalid_0's rmse: 1.73143\n",
      "[700]\tvalid_0's rmse: 1.72992\n",
      "[800]\tvalid_0's rmse: 1.72773\n",
      "[900]\tvalid_0's rmse: 1.72642\n",
      "[1000]\tvalid_0's rmse: 1.72494\n",
      "Did not meet early stopping. Best iteration is:\n",
      "[998]\tvalid_0's rmse: 1.7249\n",
      "Fold  2  error:  1.7239256002536723\n",
      "Fold  2  score:  1.7720756016576393\n",
      "Fold  3 :\n",
      "Training until validation scores don't improve for 50 rounds.\n",
      "[100]\tvalid_0's rmse: 1.80184\n",
      "[200]\tvalid_0's rmse: 1.75739\n",
      "[300]\tvalid_0's rmse: 1.74554\n",
      "[400]\tvalid_0's rmse: 1.73975\n",
      "[500]\tvalid_0's rmse: 1.73586\n",
      "[600]\tvalid_0's rmse: 1.73284\n",
      "[700]\tvalid_0's rmse: 1.73137\n",
      "[800]\tvalid_0's rmse: 1.72912\n",
      "[900]\tvalid_0's rmse: 1.72728\n",
      "[1000]\tvalid_0's rmse: 1.72642\n",
      "Did not meet early stopping. Best iteration is:\n",
      "[998]\tvalid_0's rmse: 1.7264\n",
      "Fold  3  error:  1.7252784613036036\n",
      "Fold  3  score:  1.7730382412439798\n",
      "Fold  4 :\n",
      "Training until validation scores don't improve for 50 rounds.\n",
      "[100]\tvalid_0's rmse: 1.79775\n",
      "[200]\tvalid_0's rmse: 1.75332\n",
      "[300]\tvalid_0's rmse: 1.74136\n",
      "[400]\tvalid_0's rmse: 1.73443\n",
      "[500]\tvalid_0's rmse: 1.73057\n",
      "[600]\tvalid_0's rmse: 1.7274\n",
      "[700]\tvalid_0's rmse: 1.72535\n",
      "[800]\tvalid_0's rmse: 1.72369\n",
      "[900]\tvalid_0's rmse: 1.72184\n",
      "[1000]\tvalid_0's rmse: 1.72059\n",
      "Did not meet early stopping. Best iteration is:\n",
      "[998]\tvalid_0's rmse: 1.72057\n",
      "Fold  4  error:  1.7196409747304215\n",
      "Fold  4  score:  1.7675977978231665\n",
      "Final score:  1.7699834508170786\n"
     ]
    },
    {
     "data": {
      "text/plain": [
       "1.7699834508170786"
      ]
     },
     "execution_count": 19,
     "metadata": {},
     "output_type": "execute_result"
    }
   ],
   "source": [
    "Kfolder = KFoldValidation(dev_df,5)\n",
    "\n",
    "\n",
    "\n",
    "lgbmodel = lgb.LGBMRegressor(n_estimators=1000, objective=\"regression\", metric=\"rmse\", num_leaves=11, min_child_samples=100,\n",
    "                      learning_rate=0.02, bagging_fraction=0.7, feature_fraction=0.5, bagging_frequency=5, \n",
    "                      bagging_seed=2019, subsample=.9, colsample_bytree=.9, use_best_model=True)\n",
    "\n",
    "Kfolder.validate(dev_df, val_df, num_cols + cat_cols, lgbmodel, \"lgbpred\", prepare_stacking=True)"
   ]
  },
  {
   "cell_type": "code",
   "execution_count": 21,
   "metadata": {},
   "outputs": [
    {
     "name": "stderr",
     "output_type": "stream",
     "text": [
      "findfont: Font family ['verdana'] not found. Falling back to DejaVu Sans.\n",
      "findfont: Font family ['verdana'] not found. Falling back to DejaVu Sans.\n"
     ]
    },
    {
     "data": {
      "image/png": "[encoded data removed]",
      "text/plain": [
       "<Figure size 864x1296 with 1 Axes>"
      ]
     },
     "metadata": {
      "needs_background": "light"
     },
     "output_type": "display_data"
    }
   ],
   "source": [
    "fig, ax = plt.subplots(figsize=(12,18))\n",
    "lgb.plot_importance(lgbmodel, max_num_features=200, height=0.8, ax=ax)\n",
    "ax.grid(False)\n",
    "plt.title(\"LightGBM - Feature Importance\", fontsize=15)\n",
    "plt.show()\n"
   ]
  },
  {
   "cell_type": "code",
   "execution_count": 24,
   "metadata": {},
   "outputs": [
    {
     "data": {
      "text/plain": [
       "1.7837269122815465"
      ]
     },
     "execution_count": 24,
     "metadata": {},
     "output_type": "execute_result"
    }
   ],
   "source": [
    "val_df[\"pred\"] = val_df[\"xgbpred\"] * 0.1 + val_df[\"lgbpred\"] * 0.9\n",
    "score(val_df,val_df[\"pred\"])"
   ]
  },
  {
   "cell_type": "code",
   "execution_count": null,
   "metadata": {},
   "outputs": [],
   "source": []
  }
 ],
 "metadata": {
  "kernelspec": {
   "display_name": "python tf",
   "language": "python",
   "name": "tf"
  },
  "language_info": {
   "codemirror_mode": {
    "name": "ipython",
    "version": 3
   },
   "file_extension": ".py",
   "mimetype": "text/x-python",
   "name": "python",
   "nbconvert_exporter": "python",
   "pygments_lexer": "ipython3",
   "version": "3.6.8"
  }
 },
 "nbformat": 4,
 "nbformat_minor": 2
}
